{
 "cells": [
  {
   "cell_type": "markdown",
   "metadata": {},
   "source": [
    "# WeatherPy\n",
    "----\n",
    "\n",
    "#### Note\n",
    "* Instructions have been included for each segment. You do not have to follow them exactly, but they are included to help you think through the steps."
   ]
  },
  {
   "cell_type": "code",
   "execution_count": 1,
   "metadata": {
    "collapsed": false,
    "jupyter": {
     "outputs_hidden": false
    }
   },
   "outputs": [
    {
     "name": "stdout",
     "output_type": "stream",
     "text": [
      "Requirement already satisfied: citipy in c:\\users\\liamb\\anaconda3\\lib\\site-packages (0.0.5)\n",
      "Requirement already satisfied: kdtree>=0.12 in c:\\users\\liamb\\anaconda3\\lib\\site-packages (from citipy) (0.16)\n"
     ]
    }
   ],
   "source": [
    "# #esc + b  makes a new block\n",
    "\n",
    "#installing the citipy module.\n",
    "\n",
    "!pip install citipy"
   ]
  },
  {
   "cell_type": "code",
   "execution_count": 2,
   "metadata": {
    "collapsed": false,
    "jupyter": {
     "outputs_hidden": false
    },
    "scrolled": true
   },
   "outputs": [],
   "source": [
    "# Dependencies and Setup\n",
    "import matplotlib.pyplot as plt\n",
    "import pandas as pd\n",
    "import numpy as np\n",
    "import requests\n",
    "import time\n",
    "from scipy.stats import linregress\n",
    "\n",
    "# Import API key\n",
    "from api_keys import weather_api_key\n",
    "# Incorporated citipy to determine city based on latitude and longitude\n",
    "from citipy import citipy\n",
    "# Output File (CSV)\n",
    "output_data_file = \"output_data/cities.csv\"\n",
    "\n",
    "# Range of latitudes and longitudes\n",
    "lat_range = (-90, 90)\n",
    "lng_range = (-180, 180)\n"
   ]
  },
  {
   "cell_type": "markdown",
   "metadata": {},
   "source": [
    "## Generate Cities List"
   ]
  },
  {
   "cell_type": "code",
   "execution_count": 3,
   "metadata": {},
   "outputs": [
    {
     "data": {
      "text/plain": [
       "641"
      ]
     },
     "execution_count": 3,
     "metadata": {},
     "output_type": "execute_result"
    }
   ],
   "source": [
    "# List for holding lat_lngs and cities\n",
    "lat_lngs = []\n",
    "cities = []\n",
    "\n",
    "# Create a set of random lat and lng combinations\n",
    "lats = np.random.uniform(lat_range[0], lat_range[1], size=1500)\n",
    "lngs = np.random.uniform(lng_range[0], lng_range[1], size=1500)\n",
    "lat_lngs = zip(lats, lngs)\n",
    "\n",
    "# Identify nearest city for each lat, lng combination\n",
    "for lat_lng in lat_lngs:\n",
    "    city = citipy.nearest_city(lat_lng[0], lat_lng[1]).city_name\n",
    "    \n",
    "    # If the city is unique, then add it to a our cities list\n",
    "    if city not in cities:\n",
    "        cities.append(city)\n",
    "\n",
    "# Print the city count to confirm sufficient count\n",
    "len(cities)"
   ]
  },
  {
   "cell_type": "markdown",
   "metadata": {},
   "source": [
    "### Perform API Calls\n",
    "* Perform a weather check on each city using a series of successive API calls.\n",
    "* Include a print log of each city as it'sbeing processed (with the city number and city name).\n"
   ]
  },
  {
   "cell_type": "code",
   "execution_count": 4,
   "metadata": {},
   "outputs": [],
   "source": [
    "#Will need temperature (F), lat/lng, humidity, cloudiness, windspeed nums for graphics:\n",
    "lats = []\n",
    "lngs = []\n",
    "temps = []\n",
    "humidities = []\n",
    "cloudies = []\n",
    "windspeeds = []\n",
    "countries = []\n",
    "dates = []\n",
    "finalcities = []\n"
   ]
  },
  {
   "cell_type": "code",
   "execution_count": 5,
   "metadata": {},
   "outputs": [],
   "source": [
    "# Build partial query URL\n",
    "\n",
    "url = \"http://api.openweathermap.org/data/2.5/weather?\"\n",
    "units = \"imperial\"\n",
    "query_url = url + 'appid=' + weather_api_key + '&units=' + units + '&q='\n",
    "\n"
   ]
  },
  {
   "cell_type": "code",
   "execution_count": 7,
   "metadata": {
    "scrolled": true
   },
   "outputs": [
    {
     "name": "stdout",
     "output_type": "stream",
     "text": [
      "Beginning Data Retrieval\n",
      "-----------------------------\n",
      "Processing data for carnarvon\n",
      "Processing data for busselton\n",
      "Processing data for grand gaube\n",
      "Processing data for port alfred\n",
      "Processing data for nanortalik\n",
      "Processing data for nikolskoye\n",
      "Processing data for santa cruz cabralia\n",
      "Processing data for cidreira\n",
      "Processing data for novyy rogachik\n",
      "Processing data for shimoda\n",
      "Processing data for san ignacio\n",
      "Processing data for senno\n",
      "Processing data for uige\n",
      "Processing data for sao joao da barra\n",
      "Processing data for ribeira grande\n",
      "Processing data for merauke\n",
      "Processing data for katsuura\n",
      "Processing data for louisbourg\n",
      "louisbourg not found, skipping.\n",
      "Processing data for rikitea\n",
      "Processing data for hermanus\n",
      "Processing data for acari\n",
      "Processing data for chuy\n",
      "Processing data for arlit\n",
      "Processing data for bluff\n",
      "Processing data for asau\n",
      "Processing data for shache\n",
      "Processing data for albany\n",
      "Processing data for adrar\n",
      "Processing data for sentyabrskiy\n",
      "sentyabrskiy not found, skipping.\n",
      "Processing data for butaritari\n",
      "Processing data for nizhneyansk\n",
      "nizhneyansk not found, skipping.\n",
      "Processing data for alofi\n",
      "Processing data for azul\n",
      "Processing data for saldanha\n",
      "Processing data for constitucion\n",
      "Processing data for banamba\n",
      "Processing data for taolanaro\n",
      "taolanaro not found, skipping.\n",
      "Processing data for kodiak\n",
      "Processing data for lebu\n",
      "Processing data for belushya guba\n",
      "belushya guba not found, skipping.\n",
      "Processing data for ushuaia\n",
      "Processing data for cape town\n",
      "Processing data for quatre cocos\n",
      "Processing data for mergui\n",
      "mergui not found, skipping.\n",
      "Processing data for barrow\n",
      "Processing data for mandera\n",
      "Processing data for geraldton\n",
      "Processing data for punta arenas\n",
      "Processing data for klaksvik\n",
      "Processing data for bama\n",
      "Processing data for lalin\n",
      "Processing data for kibala\n",
      "Processing data for umzimvubu\n",
      "umzimvubu not found, skipping.\n",
      "Processing data for victoria\n",
      "Processing data for bredasdorp\n",
      "Processing data for san policarpo\n",
      "Processing data for saint-augustin\n",
      "Processing data for saint-philippe\n",
      "Processing data for volokolamsk\n",
      "Processing data for bethel\n",
      "Processing data for attawapiskat\n",
      "attawapiskat not found, skipping.\n",
      "Processing data for hobart\n",
      "Processing data for shahreza\n",
      "Processing data for bambous virieux\n",
      "Processing data for kuvshinovo\n",
      "Processing data for mataura\n",
      "Processing data for mende\n",
      "Processing data for gillette\n",
      "Processing data for rossano\n",
      "Processing data for pavilosta\n",
      "Processing data for mount hagen\n",
      "Processing data for olinda\n",
      "Processing data for mogadishu\n",
      "Processing data for alexandria\n",
      "Processing data for atuona\n",
      "Processing data for bilibino\n",
      "Processing data for qaanaaq\n",
      "Processing data for hithadhoo\n",
      "Processing data for palabuhanratu\n",
      "palabuhanratu not found, skipping.\n",
      "Processing data for ponta do sol\n",
      "Processing data for kinkala\n",
      "Processing data for half moon bay\n",
      "Processing data for la baule-escoublac\n",
      "Processing data for jacareacanga\n",
      "Processing data for marcona\n",
      "marcona not found, skipping.\n",
      "Processing data for faanui\n",
      "Processing data for port hardy\n",
      "Processing data for commerce\n",
      "Processing data for illoqqortoormiut\n",
      "illoqqortoormiut not found, skipping.\n",
      "Processing data for ust-tsilma\n",
      "Processing data for kayes\n",
      "Processing data for valdivia\n",
      "Processing data for zharkent\n",
      "Processing data for guadalupe y calvo\n",
      "Processing data for flinders\n",
      "Processing data for port blair\n",
      "Processing data for georgetown\n",
      "Processing data for dzhankoy\n",
      "Processing data for east london\n",
      "Processing data for amderma\n",
      "amderma not found, skipping.\n",
      "Processing data for meulaboh\n",
      "Processing data for saint george\n",
      "Processing data for mehamn\n",
      "Processing data for mount gambier\n",
      "Processing data for yellowknife\n",
      "Processing data for coihaique\n",
      "Processing data for rantepao\n",
      "Processing data for talnakh\n",
      "Processing data for kalabo\n",
      "Processing data for gao\n",
      "Processing data for kalmunai\n",
      "Processing data for the valley\n",
      "Processing data for avarua\n",
      "Processing data for jiddah\n",
      "jiddah not found, skipping.\n",
      "Processing data for leh\n",
      "Processing data for bandarbeyla\n",
      "Processing data for tuktoyaktuk\n",
      "Processing data for port elizabeth\n",
      "Processing data for mardin\n",
      "Processing data for pizarro\n",
      "Processing data for atar\n",
      "Processing data for kaitangata\n",
      "Processing data for bargal\n",
      "bargal not found, skipping.\n",
      "Processing data for gornopravdinsk\n",
      "Processing data for bereda\n",
      "Processing data for narsaq\n",
      "Processing data for vaitupu\n",
      "vaitupu not found, skipping.\n",
      "Processing data for gat\n",
      "Processing data for kapaa\n",
      "Processing data for vaini\n",
      "Processing data for bubaque\n",
      "Processing data for provideniya\n",
      "Processing data for paamiut\n",
      "Processing data for yanchukan\n",
      "yanchukan not found, skipping.\n",
      "Processing data for kichmengskiy gorodok\n",
      "Processing data for samana\n",
      "Processing data for zlobin\n",
      "Processing data for ilulissat\n",
      "Processing data for ahipara\n",
      "Processing data for urusha\n",
      "Processing data for harper\n",
      "Processing data for zavetnoye\n",
      "Processing data for esmeraldas\n",
      "Processing data for puerto ayora\n",
      "Processing data for tefe\n",
      "Processing data for new norfolk\n",
      "Processing data for dali\n",
      "Processing data for rosetta\n",
      "Processing data for tsihombe\n",
      "tsihombe not found, skipping.\n",
      "Processing data for mar del plata\n",
      "Processing data for mackay\n",
      "Processing data for sambava\n",
      "Processing data for pacific grove\n",
      "Processing data for fukue\n",
      "Processing data for bougouni\n",
      "Processing data for ransang\n",
      "Processing data for borskoye\n",
      "Processing data for chokurdakh\n",
      "Processing data for sao joaquim\n",
      "Processing data for margate\n",
      "Processing data for lebane\n",
      "Processing data for nuevo progreso\n",
      "Processing data for zaterechnyy\n",
      "Processing data for hamilton\n",
      "Processing data for puerto palomas\n",
      "Processing data for phalaborwa\n",
      "Processing data for torbay\n",
      "Processing data for padang\n",
      "Processing data for fortuna\n",
      "Processing data for pisco\n",
      "Processing data for ketchikan\n",
      "Processing data for lagoa\n",
      "Processing data for bose\n",
      "Processing data for yangambi\n",
      "Processing data for niksic\n",
      "Processing data for ambulu\n",
      "Processing data for luancheng\n",
      "Processing data for castro\n",
      "Processing data for chara\n",
      "Processing data for klyuchevskiy\n",
      "Processing data for melfort\n",
      "Processing data for rocha\n",
      "Processing data for sorvag\n",
      "sorvag not found, skipping.\n",
      "Processing data for galdar\n",
      "Processing data for gallup\n",
      "Processing data for vardo\n",
      "Processing data for longyearbyen\n",
      "Processing data for chaa-khol\n",
      "chaa-khol not found, skipping.\n",
      "Processing data for balimo\n",
      "balimo not found, skipping.\n",
      "Processing data for saleaula\n",
      "saleaula not found, skipping.\n",
      "Processing data for boksitogorsk\n",
      "Processing data for weinan\n",
      "Processing data for puerto narino\n",
      "Processing data for luebo\n",
      "Processing data for joetsu\n",
      "Processing data for lansing\n",
      "Processing data for banff\n",
      "Processing data for pevek\n",
      "Processing data for kahului\n",
      "Processing data for tabiauea\n",
      "tabiauea not found, skipping.\n",
      "Processing data for dikson\n",
      "Processing data for aklavik\n",
      "Processing data for port hedland\n",
      "Processing data for mitzic\n",
      "Processing data for namatanai\n",
      "Processing data for tabulbah\n",
      "tabulbah not found, skipping.\n",
      "Processing data for clyde river\n",
      "Processing data for san antonio\n",
      "Processing data for rawson\n",
      "Processing data for te anau\n",
      "Processing data for ancud\n",
      "Processing data for trapani\n",
      "Processing data for airai\n",
      "Processing data for mocuba\n",
      "Processing data for sungaipenuh\n",
      "Processing data for rio grande\n",
      "Processing data for sokolo\n",
      "Processing data for jamestown\n",
      "Processing data for fort nelson\n",
      "Processing data for andenes\n",
      "Processing data for eyl\n",
      "Processing data for xining\n",
      "Processing data for koplik\n",
      "Processing data for turukhansk\n",
      "Processing data for bolungarvik\n",
      "bolungarvik not found, skipping.\n",
      "Processing data for yarada\n",
      "Processing data for yerbogachen\n",
      "Processing data for santa vitoria do palmar\n",
      "Processing data for barentsburg\n",
      "barentsburg not found, skipping.\n",
      "Processing data for karratha\n",
      "Processing data for lata\n",
      "Processing data for tasiilaq\n",
      "Processing data for caracollo\n",
      "Processing data for marsh harbour\n",
      "Processing data for bengkulu\n",
      "Processing data for lac du bonnet\n",
      "Processing data for khandyga\n",
      "Processing data for iqaluit\n",
      "Processing data for makakilo city\n",
      "Processing data for alice springs\n",
      "Processing data for culit\n",
      "Processing data for rungata\n",
      "rungata not found, skipping.\n",
      "Processing data for los llanos de aridane\n",
      "Processing data for iquique\n",
      "Processing data for burley\n",
      "Processing data for suleja\n",
      "Processing data for tabou\n",
      "Processing data for uvelskiy\n",
      "Processing data for katangli\n",
      "Processing data for fare\n",
      "Processing data for solnechnyy\n",
      "Processing data for seoul\n",
      "Processing data for henties bay\n",
      "Processing data for asyut\n",
      "Processing data for svetlyy\n",
      "Processing data for san cristobal\n",
      "Processing data for abay\n",
      "Processing data for araguacu\n",
      "Processing data for vao\n",
      "Processing data for altay\n",
      "Processing data for camacha\n",
      "Processing data for cheremukhovo\n",
      "Processing data for tignere\n",
      "Processing data for toguchin\n",
      "Processing data for walvis bay\n",
      "Processing data for dolbeau\n",
      "dolbeau not found, skipping.\n",
      "Processing data for nishihara\n",
      "Processing data for perpignan\n",
      "Processing data for cedar city\n",
      "Processing data for srednekolymsk\n",
      "Processing data for kurchum\n",
      "Processing data for mau\n",
      "Processing data for shar\n",
      "Processing data for mareeba\n",
      "Processing data for paignton\n",
      "Processing data for kachug\n",
      "Processing data for itarema\n",
      "Processing data for elbasan\n",
      "Processing data for saskylakh\n",
      "Processing data for vuktyl\n",
      "Processing data for solovetskiy\n",
      "solovetskiy not found, skipping.\n",
      "Processing data for bainbridge\n",
      "Processing data for rosetown\n",
      "Processing data for lano\n",
      "Processing data for sao filipe\n",
      "Processing data for lorengau\n",
      "Processing data for upernavik\n",
      "Processing data for burnie\n",
      "Processing data for warqla\n",
      "warqla not found, skipping.\n",
      "Processing data for khuzhir\n",
      "Processing data for lompoc\n",
      "Processing data for hilo\n",
      "Processing data for carutapera\n",
      "Processing data for cam ranh\n",
      "Processing data for sinnamary\n",
      "Processing data for bedele\n",
      "Processing data for tebingtinggi\n",
      "Processing data for nouadhibou\n",
      "Processing data for fort saint john\n",
      "fort saint john not found, skipping.\n",
      "Processing data for arraial do cabo\n",
      "Processing data for roebourne\n",
      "Processing data for sistranda\n",
      "Processing data for traverse city\n",
      "Processing data for thompson\n",
      "Processing data for kuldiga\n",
      "Processing data for sainte-anne-des-monts\n",
      "Processing data for samarai\n",
      "Processing data for severo-kurilsk\n",
      "Processing data for falaleu\n",
      "falaleu not found, skipping.\n",
      "Processing data for mikhaylovka\n",
      "Processing data for deep river\n",
      "Processing data for beringovskiy\n",
      "Processing data for high level\n",
      "Processing data for nouakchott\n",
      "Processing data for souillac\n",
      "Processing data for soto la marina\n",
      "Processing data for bam\n",
      "Processing data for hambantota\n",
      "Processing data for hall\n",
      "Processing data for kulevcha\n",
      "Processing data for mahon\n",
      "Processing data for hermiston\n",
      "Processing data for andros town\n",
      "Processing data for abu samrah\n",
      "Processing data for galgani\n",
      "galgani not found, skipping.\n",
      "Processing data for pascagoula\n",
      "Processing data for launceston\n",
      "Processing data for huarmey\n",
      "Processing data for west melbourne\n",
      "Processing data for sorong\n",
      "Processing data for bacuit\n",
      "bacuit not found, skipping.\n",
      "Processing data for cherskiy\n",
      "Processing data for qui nhon\n",
      "Processing data for santiago de cuba\n",
      "Processing data for fairbanks\n",
      "Processing data for vysha\n",
      "Processing data for zhongxing\n",
      "Processing data for kiunga\n",
      "Processing data for pasir gudang\n",
      "Processing data for savannah bight\n",
      "Processing data for mahebourg\n",
      "Processing data for poum\n",
      "Processing data for saint-pierre\n",
      "Processing data for pangnirtung\n",
      "Processing data for trinidad\n",
      "Processing data for duliagaon\n",
      "Processing data for necochea\n",
      "Processing data for aden\n",
      "Processing data for juneau\n",
      "Processing data for dharchula\n",
      "Processing data for cabo san lucas\n",
      "Processing data for nandu\n",
      "Processing data for channel-port aux basques\n",
      "Processing data for kimamba\n",
      "Processing data for nantucket\n",
      "Processing data for buchanan\n",
      "Processing data for kruisfontein\n",
      "Processing data for hervey bay\n",
      "Processing data for siguiri\n",
      "Processing data for waingapu\n",
      "Processing data for hegang\n",
      "Processing data for gamba\n",
      "Processing data for varkaus\n",
      "Processing data for pforzheim\n",
      "Processing data for awbari\n",
      "Processing data for caceres\n",
      "Processing data for banda aceh\n",
      "Processing data for kindu\n",
      "Processing data for yuryuzan\n",
      "Processing data for clyde\n",
      "Processing data for columbus\n",
      "Processing data for hermon\n",
      "Processing data for coquimbo\n",
      "Processing data for muros\n",
      "Processing data for khatanga\n",
      "Processing data for zavodouspenskoye\n",
      "Processing data for esperance\n",
      "Processing data for batie\n",
      "Processing data for tshikapa\n",
      "Processing data for tabasalu\n",
      "Processing data for carlsbad\n",
      "Processing data for hualmay\n",
      "Processing data for norman wells\n",
      "Processing data for zalari\n",
      "Processing data for talkha\n",
      "Processing data for chegdomyn\n",
      "Processing data for deputatskiy\n",
      "Processing data for dzhebariki-khaya\n",
      "Processing data for sosnovo-ozerskoye\n",
      "Processing data for sirohi\n",
      "Processing data for college\n",
      "Processing data for mounana\n",
      "Processing data for khonuu\n",
      "khonuu not found, skipping.\n",
      "Processing data for progreso\n",
      "Processing data for pangkalanbuun\n",
      "Processing data for pachino\n",
      "Processing data for matara\n",
      "Processing data for tombouctou\n",
      "Processing data for verkhnevilyuysk\n",
      "Processing data for siyabuswa\n",
      "Processing data for westport\n",
      "Processing data for bathsheba\n",
      "Processing data for yanam\n",
      "Processing data for udachnyy\n",
      "Processing data for palana\n",
      "Processing data for anshun\n",
      "Processing data for okhotsk\n",
      "Processing data for havre-saint-pierre\n",
      "Processing data for gimli\n",
      "Processing data for leningradskiy\n",
      "Processing data for sabang\n",
      "Processing data for te horo\n",
      "Processing data for chulman\n",
      "Processing data for zhezkazgan\n",
      "Processing data for changji\n",
      "Processing data for san quintin\n",
      "Processing data for waterfoot\n",
      "Processing data for manta\n",
      "Processing data for hadrut\n",
      "Processing data for teeli\n",
      "Processing data for winslow\n",
      "Processing data for haapiti\n",
      "Processing data for neuquen\n",
      "Processing data for namibe\n",
      "Processing data for bulgan\n",
      "Processing data for zambezi\n",
      "Processing data for nongan\n",
      "Processing data for pitimbu\n",
      "Processing data for george\n",
      "Processing data for mys shmidta\n",
      "mys shmidta not found, skipping.\n",
      "Processing data for tawang\n",
      "Processing data for tual\n",
      "Processing data for chikola\n",
      "Processing data for pathein\n",
      "Processing data for kankakee\n",
      "Processing data for dunedin\n",
      "Processing data for noshiro\n",
      "Processing data for wanning\n",
      "Processing data for liku\n",
      "Processing data for motygino\n",
      "Processing data for chase\n",
      "Processing data for lasa\n",
      "Processing data for gizo\n",
      "Processing data for saint-joseph\n",
      "Processing data for angoche\n",
      "Processing data for wilmington\n",
      "Processing data for arona\n",
      "Processing data for inongo\n",
      "Processing data for kavaratti\n",
      "Processing data for mastic beach\n",
      "Processing data for chernyshevskiy\n",
      "Processing data for hofn\n",
      "Processing data for fevralsk\n",
      "fevralsk not found, skipping.\n",
      "Processing data for katunino\n",
      "Processing data for uyuni\n",
      "Processing data for yulara\n",
      "Processing data for olafsvik\n",
      "Processing data for kerikeri\n",
      "Processing data for santa fe\n",
      "Processing data for ternate\n",
      "Processing data for hargeysa\n",
      "Processing data for samusu\n",
      "samusu not found, skipping.\n",
      "Processing data for trincomalee\n",
      "Processing data for wad madani\n",
      "Processing data for corn island\n",
      "Processing data for kakinada\n",
      "Processing data for garissa\n",
      "Processing data for seryshevo\n",
      "Processing data for manyana\n",
      "Processing data for tiksi\n",
      "Processing data for vawkavysk\n",
      "Processing data for bol\n",
      "Processing data for simplicio mendes\n",
      "Processing data for barraute\n",
      "Processing data for saint anthony\n",
      "Processing data for kalemie\n",
      "Processing data for sitka\n",
      "Processing data for tuatapere\n",
      "Processing data for cavalcante\n",
      "Processing data for hasaki\n",
      "Processing data for guhagar\n",
      "Processing data for ascension\n",
      "Processing data for nadvoitsy\n",
      "Processing data for saryshagan\n",
      "saryshagan not found, skipping.\n",
      "Processing data for erenhot\n",
      "Processing data for bilma\n",
      "Processing data for agropoli\n",
      "Processing data for prado\n",
      "Processing data for puerto madryn\n",
      "Processing data for kavieng\n",
      "Processing data for maralal\n",
      "Processing data for posse\n",
      "Processing data for yeppoon\n",
      "Processing data for dwarka\n",
      "Processing data for murchison\n",
      "Processing data for luderitz\n",
      "Processing data for panaba\n",
      "Processing data for raudeberg\n",
      "Processing data for ibra\n",
      "Processing data for abonnema\n",
      "Processing data for calatayud\n",
      "Processing data for kathmandu\n",
      "Processing data for talaya\n",
      "Processing data for voi\n",
      "Processing data for barawe\n",
      "barawe not found, skipping.\n",
      "Processing data for ocampo\n",
      "Processing data for yumen\n",
      "Processing data for madison\n",
      "Processing data for guanica\n",
      "Processing data for la ronge\n",
      "Processing data for sechenovo\n",
      "Processing data for pandelys\n",
      "pandelys not found, skipping.\n",
      "Processing data for neryungri\n",
      "Processing data for sokol\n",
      "Processing data for cabedelo\n",
      "Processing data for codrington\n",
      "Processing data for kodinsk\n",
      "Processing data for chifeng\n",
      "Processing data for cody\n",
      "Processing data for sobolevo\n",
      "Processing data for russell\n",
      "Processing data for amahai\n",
      "Processing data for nome\n",
      "Processing data for hovd\n",
      "Processing data for husavik\n",
      "Processing data for tazovskiy\n",
      "Processing data for plettenberg bay\n",
      "Processing data for belyy yar\n",
      "Processing data for lar gerd\n",
      "lar gerd not found, skipping.\n",
      "Processing data for soe\n",
      "Processing data for gambo\n",
      "Processing data for brae\n",
      "Processing data for mae sai\n",
      "Processing data for acandi\n",
      "Processing data for changzhou\n",
      "Processing data for berbera\n",
      "Processing data for mizan teferi\n",
      "Processing data for tessalit\n",
      "Processing data for hit\n",
      "Processing data for chimbote\n",
      "Processing data for fountain hills\n",
      "Processing data for barpeta\n",
      "Processing data for port hawkesbury\n",
      "Processing data for wuwei\n",
      "Processing data for dingle\n",
      "Processing data for hobyo\n",
      "Processing data for igarka\n",
      "Processing data for ugoofaaru\n",
      "Processing data for camacupa\n",
      "Processing data for dalbandin\n",
      "Processing data for redditch\n",
      "Processing data for nelson bay\n",
      "Processing data for penzance\n",
      "Processing data for charagua\n",
      "Processing data for bagdarin\n",
      "Processing data for bay roberts\n",
      "Processing data for roma\n",
      "Processing data for gulariya\n",
      "Processing data for ziro\n",
      "Processing data for oreanda\n",
      "oreanda not found, skipping.\n",
      "Processing data for cayenne\n",
      "Processing data for aasiaat\n",
      "Processing data for illapel\n",
      "Processing data for oum hadjer\n",
      "Processing data for north battleford\n",
      "Processing data for beloha\n",
      "Processing data for haines junction\n",
      "Processing data for medina\n",
      "Processing data for camopi\n",
      "Processing data for antofagasta\n",
      "Processing data for orchard homes\n",
      "Processing data for ayan\n",
      "Processing data for dustlik\n",
      "Processing data for rio gallegos\n",
      "Processing data for yirol\n",
      "yirol not found, skipping.\n",
      "Processing data for arman\n",
      "Processing data for aflu\n",
      "aflu not found, skipping.\n",
      "Processing data for sisimiut\n",
      "Processing data for fomboni\n",
      "Processing data for changping\n",
      "Processing data for gamboma\n",
      "Processing data for teguise\n",
      "Processing data for najran\n",
      "Processing data for thomasville\n",
      "Processing data for aksarka\n",
      "Processing data for green river\n",
      "Processing data for monatele\n",
      "monatele not found, skipping.\n",
      "Processing data for vestmannaeyjar\n",
      "Processing data for chesma\n",
      "Processing data for batagay\n",
      "Processing data for buy\n",
      "Processing data for bosaso\n",
      "Processing data for alyangula\n",
      "Processing data for balkanabat\n",
      "Processing data for usinsk\n",
      "Processing data for empalme\n",
      "Processing data for micheweni\n",
      "Processing data for laem sing\n",
      "Processing data for det udom\n",
      "Processing data for monrovia\n",
      "Processing data for curuca\n",
      "Processing data for haibowan\n",
      "haibowan not found, skipping.\n",
      "Processing data for port augusta\n",
      "Processing data for marawi\n",
      "Processing data for caibarien\n",
      "Processing data for tarata\n",
      "Processing data for port macquarie\n",
      "Processing data for tiarei\n",
      "Processing data for vulcan\n",
      "Processing data for faya\n",
      "Processing data for araouane\n",
      "Processing data for ulladulla\n",
      "Processing data for coruripe\n",
      "Processing data for kaseda\n",
      "Processing data for havoysund\n",
      "Processing data for puerto colombia\n",
      "Processing data for sapouy\n",
      "Processing data for yugorsk\n",
      "Processing data for san andres\n",
      "Processing data for kazalinsk\n",
      "kazalinsk not found, skipping.\n",
      "Processing data for steinbach\n",
      "Processing data for boljevac\n",
      "Processing data for dubbo\n",
      "Processing data for egvekinot\n",
      "Processing data for sorland\n",
      "Processing data for ostrovnoy\n",
      "Processing data for tselinnoye\n",
      "Processing data for baghdad\n",
      "Processing data for punta gorda\n",
      "Processing data for antalaha\n",
      "Processing data for luanda\n",
      "Processing data for buala\n",
      "Processing data for cockburn town\n",
      "Processing data for miri\n",
      "Processing data for abu dhabi\n",
      "Processing data for deogarh\n",
      "Processing data for ankazoabo\n",
      "Processing data for capelinha\n",
      "Processing data for areka\n",
      "Processing data for oltu\n",
      "Processing data for atherton\n",
      "-----------------------------\n",
      "Data Retrieval Complete\n",
      "-----------------------------\n"
     ]
    }
   ],
   "source": [
    "print('Beginning Data Retrieval')\n",
    "print('-----------------------------')\n",
    "\n",
    "for city in cities:\n",
    "    #delay for 0.75 seconds to not surpass 60 calls/min OWM limit\n",
    "    time.sleep(0.75)\n",
    "    response = requests.get(query_url + city).json()\n",
    "    try: \n",
    "        print(f'Processing data for {city}')\n",
    "        finalcities.append(response['name'])\n",
    "        lats.append(response['coord']['lat'])\n",
    "        lngs.append(response['coord']['lon'])\n",
    "        temps.append(response['main']['temp'])\n",
    "        humidities.append(response['main']['humidity'])\n",
    "        cloudies.append(response['clouds']['all'])\n",
    "        windspeeds.append(response['wind']['speed'])\n",
    "        countries.append(response['sys']['country'])\n",
    "        dates.append(response['dt'])\n",
    "    except:\n",
    "        print(f'{city} not found, skipping.')\n",
    "print('-----------------------------')\n",
    "print('Data Retrieval Complete')\n",
    "print('-----------------------------')"
   ]
  },
  {
   "cell_type": "markdown",
   "metadata": {},
   "source": [
    "### Convert Raw Data to DataFrame\n",
    "* Export the city data into a .csv.\n",
    "* Display the DataFrame"
   ]
  },
  {
   "cell_type": "code",
   "execution_count": 20,
   "metadata": {},
   "outputs": [
    {
     "data": {
      "text/html": [
       "<div>\n",
       "<style scoped>\n",
       "    .dataframe tbody tr th:only-of-type {\n",
       "        vertical-align: middle;\n",
       "    }\n",
       "\n",
       "    .dataframe tbody tr th {\n",
       "        vertical-align: top;\n",
       "    }\n",
       "\n",
       "    .dataframe thead th {\n",
       "        text-align: right;\n",
       "    }\n",
       "</style>\n",
       "<table border=\"1\" class=\"dataframe\">\n",
       "  <thead>\n",
       "    <tr style=\"text-align: right;\">\n",
       "      <th></th>\n",
       "      <th>City</th>\n",
       "      <th>Lat</th>\n",
       "      <th>Lng</th>\n",
       "      <th>Temp</th>\n",
       "      <th>Humidity</th>\n",
       "      <th>Cloudiness</th>\n",
       "      <th>Wind Speed</th>\n",
       "      <th>Country</th>\n",
       "      <th>Date</th>\n",
       "    </tr>\n",
       "  </thead>\n",
       "  <tbody>\n",
       "    <tr>\n",
       "      <th>0</th>\n",
       "      <td>Carnarvon</td>\n",
       "      <td>-24.8667</td>\n",
       "      <td>113.6333</td>\n",
       "      <td>84.20</td>\n",
       "      <td>42</td>\n",
       "      <td>81</td>\n",
       "      <td>12.66</td>\n",
       "      <td>AU</td>\n",
       "      <td>1612126355</td>\n",
       "    </tr>\n",
       "    <tr>\n",
       "      <th>1</th>\n",
       "      <td>Busselton</td>\n",
       "      <td>-33.6500</td>\n",
       "      <td>115.3333</td>\n",
       "      <td>61.25</td>\n",
       "      <td>84</td>\n",
       "      <td>0</td>\n",
       "      <td>3.00</td>\n",
       "      <td>AU</td>\n",
       "      <td>1612126356</td>\n",
       "    </tr>\n",
       "    <tr>\n",
       "      <th>2</th>\n",
       "      <td>Grand Gaube</td>\n",
       "      <td>-20.0064</td>\n",
       "      <td>57.6608</td>\n",
       "      <td>81.00</td>\n",
       "      <td>73</td>\n",
       "      <td>45</td>\n",
       "      <td>10.00</td>\n",
       "      <td>MU</td>\n",
       "      <td>1612126357</td>\n",
       "    </tr>\n",
       "    <tr>\n",
       "      <th>3</th>\n",
       "      <td>Port Alfred</td>\n",
       "      <td>-33.5906</td>\n",
       "      <td>26.8910</td>\n",
       "      <td>72.00</td>\n",
       "      <td>84</td>\n",
       "      <td>9</td>\n",
       "      <td>4.00</td>\n",
       "      <td>ZA</td>\n",
       "      <td>1612126357</td>\n",
       "    </tr>\n",
       "    <tr>\n",
       "      <th>4</th>\n",
       "      <td>Nanortalik</td>\n",
       "      <td>60.1432</td>\n",
       "      <td>-45.2371</td>\n",
       "      <td>31.71</td>\n",
       "      <td>92</td>\n",
       "      <td>100</td>\n",
       "      <td>7.20</td>\n",
       "      <td>GL</td>\n",
       "      <td>1612126358</td>\n",
       "    </tr>\n",
       "    <tr>\n",
       "      <th>...</th>\n",
       "      <td>...</td>\n",
       "      <td>...</td>\n",
       "      <td>...</td>\n",
       "      <td>...</td>\n",
       "      <td>...</td>\n",
       "      <td>...</td>\n",
       "      <td>...</td>\n",
       "      <td>...</td>\n",
       "      <td>...</td>\n",
       "    </tr>\n",
       "    <tr>\n",
       "      <th>617</th>\n",
       "      <td>Ankazoabo</td>\n",
       "      <td>-22.2833</td>\n",
       "      <td>44.5167</td>\n",
       "      <td>73.06</td>\n",
       "      <td>89</td>\n",
       "      <td>2</td>\n",
       "      <td>5.17</td>\n",
       "      <td>MG</td>\n",
       "      <td>1612127030</td>\n",
       "    </tr>\n",
       "    <tr>\n",
       "      <th>618</th>\n",
       "      <td>Capelinha</td>\n",
       "      <td>-17.6914</td>\n",
       "      <td>-42.5158</td>\n",
       "      <td>70.70</td>\n",
       "      <td>78</td>\n",
       "      <td>50</td>\n",
       "      <td>5.75</td>\n",
       "      <td>BR</td>\n",
       "      <td>1612127030</td>\n",
       "    </tr>\n",
       "    <tr>\n",
       "      <th>619</th>\n",
       "      <td>Āreka</td>\n",
       "      <td>7.0667</td>\n",
       "      <td>37.7000</td>\n",
       "      <td>62.37</td>\n",
       "      <td>39</td>\n",
       "      <td>1</td>\n",
       "      <td>8.05</td>\n",
       "      <td>ET</td>\n",
       "      <td>1612127031</td>\n",
       "    </tr>\n",
       "    <tr>\n",
       "      <th>620</th>\n",
       "      <td>Oltu</td>\n",
       "      <td>40.5498</td>\n",
       "      <td>42.0013</td>\n",
       "      <td>27.30</td>\n",
       "      <td>88</td>\n",
       "      <td>45</td>\n",
       "      <td>7.00</td>\n",
       "      <td>TR</td>\n",
       "      <td>1612127032</td>\n",
       "    </tr>\n",
       "    <tr>\n",
       "      <th>621</th>\n",
       "      <td>Atherton</td>\n",
       "      <td>53.5237</td>\n",
       "      <td>-2.4935</td>\n",
       "      <td>36.28</td>\n",
       "      <td>61</td>\n",
       "      <td>97</td>\n",
       "      <td>4.00</td>\n",
       "      <td>GB</td>\n",
       "      <td>1612127033</td>\n",
       "    </tr>\n",
       "  </tbody>\n",
       "</table>\n",
       "<p>622 rows × 9 columns</p>\n",
       "</div>"
      ],
      "text/plain": [
       "            City      Lat       Lng   Temp  Humidity  Cloudiness  Wind Speed  \\\n",
       "0      Carnarvon -24.8667  113.6333  84.20        42          81       12.66   \n",
       "1      Busselton -33.6500  115.3333  61.25        84           0        3.00   \n",
       "2    Grand Gaube -20.0064   57.6608  81.00        73          45       10.00   \n",
       "3    Port Alfred -33.5906   26.8910  72.00        84           9        4.00   \n",
       "4     Nanortalik  60.1432  -45.2371  31.71        92         100        7.20   \n",
       "..           ...      ...       ...    ...       ...         ...         ...   \n",
       "617    Ankazoabo -22.2833   44.5167  73.06        89           2        5.17   \n",
       "618    Capelinha -17.6914  -42.5158  70.70        78          50        5.75   \n",
       "619        Āreka   7.0667   37.7000  62.37        39           1        8.05   \n",
       "620         Oltu  40.5498   42.0013  27.30        88          45        7.00   \n",
       "621     Atherton  53.5237   -2.4935  36.28        61          97        4.00   \n",
       "\n",
       "    Country        Date  \n",
       "0        AU  1612126355  \n",
       "1        AU  1612126356  \n",
       "2        MU  1612126357  \n",
       "3        ZA  1612126357  \n",
       "4        GL  1612126358  \n",
       "..      ...         ...  \n",
       "617      MG  1612127030  \n",
       "618      BR  1612127030  \n",
       "619      ET  1612127031  \n",
       "620      TR  1612127032  \n",
       "621      GB  1612127033  \n",
       "\n",
       "[622 rows x 9 columns]"
      ]
     },
     "execution_count": 20,
     "metadata": {},
     "output_type": "execute_result"
    }
   ],
   "source": [
    "#Had to re-run above cell. Did not account for array length error when using initial cities list, so made cities w/ data into new \"finalcities\"\n",
    "\n",
    "weather_df = pd.DataFrame({\n",
    "    \"City\": finalcities,\n",
    "    \"Lat\": lats,\n",
    "    \"Lng\": lngs,\n",
    "    \"Temp\": temps,\n",
    "    \"Humidity\": humidities,\n",
    "    \"Cloudiness\": cloudies,\n",
    "    \"Wind Speed\": windspeeds,\n",
    "    \"Country\": countries,\n",
    "    \"Date\": dates\n",
    "                })\n",
    "\n",
    "weather_df"
   ]
  },
  {
   "cell_type": "code",
   "execution_count": 27,
   "metadata": {},
   "outputs": [],
   "source": [
    "weather_df.to_csv(\"../cities.csv\",encoding=\"utf-8\", index=False)"
   ]
  },
  {
   "cell_type": "markdown",
   "metadata": {},
   "source": [
    "## Inspect the data and remove the cities where the humidity > 100%.\n",
    "----\n",
    "Skip this step if there are no cities that have humidity > 100%. "
   ]
  },
  {
   "cell_type": "code",
   "execution_count": 29,
   "metadata": {},
   "outputs": [
    {
     "data": {
      "text/plain": [
       "100"
      ]
     },
     "execution_count": 29,
     "metadata": {},
     "output_type": "execute_result"
    }
   ],
   "source": [
    "humid_over100 = weather_df['Humidity'].max()\n",
    "humid_over100"
   ]
  },
  {
   "cell_type": "markdown",
   "metadata": {
    "jupyter": {
     "outputs_hidden": true
    }
   },
   "source": [
    "#  Get the indices of cities that have humidity over 100%.\n",
    "\n",
    "No cities have humidities over 100, so I'm skipping this part."
   ]
  },
  {
   "cell_type": "markdown",
   "metadata": {},
   "source": [
    "## Plotting the Data\n",
    "* Use proper labeling of the plots using plot titles (including date of analysis) and axes labels.\n",
    "* Save the plotted figures as .pngs."
   ]
  },
  {
   "cell_type": "markdown",
   "metadata": {},
   "source": [
    "## Latitude vs. Temperature Plot"
   ]
  },
  {
   "cell_type": "code",
   "execution_count": 31,
   "metadata": {
    "scrolled": true
   },
   "outputs": [
    {
     "data": {
      "image/png": "[encoded data removed]",
      "text/plain": [
       "<Figure size 432x288 with 1 Axes>"
      ]
     },
     "metadata": {
      "needs_background": "light"
     },
     "output_type": "display_data"
    }
   ],
   "source": [
    "plt.scatter(weather_df[\"Lat\"], weather_df[\"Temp\"], marker=\"o\")\n",
    "\n",
    "#Labels\n",
    "plt.title(\"Latitude vs Temperature (F)\")\n",
    "plt.ylabel(\"Temperature (F)\")\n",
    "plt.xlabel(\"Latitude\")\n",
    "plt.grid(True)\n",
    "\n",
    "# Save the figure\n",
    "plt.savefig(\"../../Instructions/output_data/latvstemp.png\")"
   ]
  },
  {
   "cell_type": "markdown",
   "metadata": {},
   "source": [
    "## Latitude vs. Humidity Plot"
   ]
  },
  {
   "cell_type": "code",
   "execution_count": 32,
   "metadata": {},
   "outputs": [
    {
     "data": {
      "image/png": "[encoded data removed]",
      "text/plain": [
       "<Figure size 432x288 with 1 Axes>"
      ]
     },
     "metadata": {
      "needs_background": "light"
     },
     "output_type": "display_data"
    }
   ],
   "source": [
    "plt.scatter(weather_df[\"Lat\"], weather_df[\"Humidity\"], marker=\"o\")\n",
    "\n",
    "#Labels\n",
    "plt.title(\"Latitude vs Humidity\")\n",
    "plt.ylabel(\"Humidity (%)\")\n",
    "plt.xlabel(\"Latitude\")\n",
    "plt.grid(True)\n",
    "\n",
    "# Save the figure\n",
    "plt.savefig(\"../../Instructions/output_data/latvshumid.png\")"
   ]
  },
  {
   "cell_type": "markdown",
   "metadata": {},
   "source": [
    "## Latitude vs. Cloudiness Plot"
   ]
  },
  {
   "cell_type": "code",
   "execution_count": 35,
   "metadata": {},
   "outputs": [
    {
     "data": {
      "image/png": "[encoded data removed]",
      "text/plain": [
       "<Figure size 432x288 with 1 Axes>"
      ]
     },
     "metadata": {
      "needs_background": "light"
     },
     "output_type": "display_data"
    }
   ],
   "source": [
    "plt.scatter(weather_df[\"Lat\"], weather_df[\"Cloudiness\"], marker=\"o\")\n",
    "\n",
    "#Labels\n",
    "plt.title(\"Latitude vs Cloudiness\")\n",
    "plt.ylabel(\"Cloudiness (%)\")\n",
    "plt.xlabel(\"Latitude\")\n",
    "plt.grid(True)\n",
    "\n",
    "# Save the figure\n",
    "plt.savefig(\"../../Instructions/output_data/latvscloud.png\")"
   ]
  },
  {
   "cell_type": "markdown",
   "metadata": {},
   "source": [
    "## Latitude vs. Wind Speed Plot"
   ]
  },
  {
   "cell_type": "code",
   "execution_count": 36,
   "metadata": {},
   "outputs": [
    {
     "data": {
      "image/png": "[encoded data removed]",
      "text/plain": [
       "<Figure size 432x288 with 1 Axes>"
      ]
     },
     "metadata": {
      "needs_background": "light"
     },
     "output_type": "display_data"
    }
   ],
   "source": [
    "plt.scatter(weather_df[\"Lat\"], weather_df[\"Wind Speed\"], marker=\"o\")\n",
    "\n",
    "#Labels\n",
    "plt.title(\"Latitude vs Wind Speed\")\n",
    "plt.ylabel(\"Wind Speed (mph)\")\n",
    "plt.xlabel(\"Latitude\")\n",
    "plt.grid(True)\n",
    "\n",
    "# Save the figure\n",
    "plt.savefig(\"../../Instructions/output_data/latvswind.png\")"
   ]
  },
  {
   "cell_type": "markdown",
   "metadata": {},
   "source": [
    "## Linear Regression"
   ]
  },
  {
   "cell_type": "code",
   "execution_count": 39,
   "metadata": {},
   "outputs": [],
   "source": [
    "#For the next bit, creating splits of N/S hemispheres\n",
    "north = weather_df.loc[weather_df[\"Lat\"] >= 0,:]\n",
    "south = weather_df.loc[weather_df[\"Lat\"] < 0,:]"
   ]
  },
  {
   "cell_type": "markdown",
   "metadata": {},
   "source": [
    "####  Northern Hemisphere - Max Temp vs. Latitude Linear Regression"
   ]
  },
  {
   "cell_type": "code",
   "execution_count": 64,
   "metadata": {},
   "outputs": [
    {
     "data": {
      "image/png": "[encoded data removed]",
      "text/plain": [
       "<Figure size 432x288 with 1 Axes>"
      ]
     },
     "metadata": {
      "needs_background": "light"
     },
     "output_type": "display_data"
    }
   ],
   "source": [
    "x_values = north[\"Lat\"]\n",
    "\n",
    "y_values = north[\"Temp\"]\n",
    "\n",
    "#Linear regression:\n",
    "(slope, intercept, rvalue, pvalue, stderr) = linregress(x_values, y_values)\n",
    "\n",
    "#Regression values and line equation:\n",
    "\n",
    "regress_values = x_values * slope + intercept\n",
    "line_eq = \"y = \" + str(round(slope,2)) + \"x + \" + str(round(intercept,2))\n",
    "\n",
    "\n",
    "plt.scatter(x_values,y_values)\n",
    "plt.plot(x_values,regress_values,\"r-\")\n",
    "plt.annotate(line_eq, (0,-40),fontsize=15,color=\"red\")\n",
    "plt.title(\"Latitude vs Temp in the Northern Hemisphere\")\n",
    "plt.xlabel('Latitude')\n",
    "plt.ylabel('Temperature (F)')\n",
    "plt.show()"
   ]
  },
  {
   "cell_type": "markdown",
   "metadata": {},
   "source": [
    "####  Southern Hemisphere - Max Temp vs. Latitude Linear Regression"
   ]
  },
  {
   "cell_type": "code",
   "execution_count": 65,
   "metadata": {},
   "outputs": [
    {
     "data": {
      "image/png": "[encoded data removed]",
      "text/plain": [
       "<Figure size 432x288 with 1 Axes>"
      ]
     },
     "metadata": {
      "needs_background": "light"
     },
     "output_type": "display_data"
    }
   ],
   "source": [
    "x_values = south[\"Lat\"]\n",
    "y_values = south[\"Temp\"]\n",
    "\n",
    "#Linear regression:\n",
    "(slope, intercept, rvalue, pvalue, stderr) = linregress(x_values, y_values)\n",
    "\n",
    "#Regression values and line equation:\n",
    "\n",
    "regress_values = x_values * slope + intercept\n",
    "line_eq = \"y = \" + str(round(slope,2)) + \"x + \" + str(round(intercept,2))\n",
    "\n",
    "\n",
    "plt.scatter(x_values,y_values)\n",
    "plt.plot(x_values,regress_values,\"r-\")\n",
    "plt.annotate(line_eq, (-30,55),fontsize=15,color=\"red\")\n",
    "plt.title(\"Latitude vs Temp in the Southern Hemisphere\")\n",
    "plt.xlabel('Latitude')\n",
    "plt.ylabel('Temperature (F)')\n",
    "plt.show()"
   ]
  },
  {
   "cell_type": "markdown",
   "metadata": {},
   "source": [
    "####  Northern Hemisphere - Humidity (%) vs. Latitude Linear Regression"
   ]
  },
  {
   "cell_type": "code",
   "execution_count": 66,
   "metadata": {},
   "outputs": [
    {
     "data": {
      "image/png": "[encoded data removed]",
      "text/plain": [
       "<Figure size 432x288 with 1 Axes>"
      ]
     },
     "metadata": {
      "needs_background": "light"
     },
     "output_type": "display_data"
    }
   ],
   "source": [
    "x_values = north[\"Lat\"]\n",
    "y_values = north[\"Humidity\"]\n",
    "\n",
    "#Linear regression:\n",
    "(slope, intercept, rvalue, pvalue, stderr) = linregress(x_values, y_values)\n",
    "\n",
    "#Regression values and line equation:\n",
    "\n",
    "regress_values = x_values * slope + intercept\n",
    "line_eq = \"y = \" + str(round(slope,2)) + \"x + \" + str(round(intercept,2))\n",
    "\n",
    "\n",
    "plt.scatter(x_values,y_values)\n",
    "plt.plot(x_values,regress_values,\"r-\")\n",
    "plt.annotate(line_eq, (40,15),fontsize=15,color=\"red\")\n",
    "plt.title(\"Latitude vs Humidity in the Northern Hemisphere\")\n",
    "plt.ylabel('Humidity (%)')\n",
    "plt.xlabel('Latitude')\n",
    "plt.show()"
   ]
  },
  {
   "cell_type": "markdown",
   "metadata": {},
   "source": [
    "####  Southern Hemisphere - Humidity (%) vs. Latitude Linear Regression"
   ]
  },
  {
   "cell_type": "code",
   "execution_count": 67,
   "metadata": {},
   "outputs": [
    {
     "data": {
      "image/png": "[encoded data removed]",
      "text/plain": [
       "<Figure size 432x288 with 1 Axes>"
      ]
     },
     "metadata": {
      "needs_background": "light"
     },
     "output_type": "display_data"
    }
   ],
   "source": [
    "x_values = south[\"Lat\"]\n",
    "y_values = south[\"Humidity\"]\n",
    "\n",
    "#Linear regression:\n",
    "(slope, intercept, rvalue, pvalue, stderr) = linregress(x_values, y_values)\n",
    "\n",
    "#Regression values and line equation:\n",
    "\n",
    "regress_values = x_values * slope + intercept\n",
    "line_eq = \"y = \" + str(round(slope,2)) + \"x + \" + str(round(intercept,2))\n",
    "\n",
    "\n",
    "plt.scatter(x_values,y_values)\n",
    "plt.plot(x_values,regress_values,\"r-\")\n",
    "plt.annotate(line_eq, (-30,40),fontsize=15,color=\"red\")\n",
    "plt.title(\"Latitude vs Humidity in the Southern Hemisphere\")\n",
    "plt.ylabel('Humidity (%)')\n",
    "plt.xlabel('Latitude')\n",
    "plt.show()"
   ]
  },
  {
   "cell_type": "markdown",
   "metadata": {},
   "source": [
    "####  Northern Hemisphere - Cloudiness (%) vs. Latitude Linear Regression"
   ]
  },
  {
   "cell_type": "code",
   "execution_count": 68,
   "metadata": {},
   "outputs": [
    {
     "data": {
      "image/png": "[encoded data removed]",
      "text/plain": [
       "<Figure size 432x288 with 1 Axes>"
      ]
     },
     "metadata": {
      "needs_background": "light"
     },
     "output_type": "display_data"
    }
   ],
   "source": [
    "x_values = north[\"Lat\"]\n",
    "y_values = north[\"Cloudiness\"]\n",
    "\n",
    "#Linear regression:\n",
    "(slope, intercept, rvalue, pvalue, stderr) = linregress(x_values, y_values)\n",
    "\n",
    "#Regression values and line equation:\n",
    "\n",
    "regress_values = x_values * slope + intercept\n",
    "line_eq = \"y = \" + str(round(slope,2)) + \"x + \" + str(round(intercept,2))\n",
    "\n",
    "\n",
    "plt.scatter(x_values,y_values)\n",
    "plt.plot(x_values,regress_values,\"r-\")\n",
    "plt.annotate(line_eq, (40,50),fontsize=15,color=\"red\")\n",
    "plt.title(\"Latitude vs Cloudiness in the Northern Hemisphere\")\n",
    "plt.ylabel('Cloudiness (%)')\n",
    "plt.xlabel('Latitude')\n",
    "plt.show()"
   ]
  },
  {
   "cell_type": "markdown",
   "metadata": {},
   "source": [
    "####  Southern Hemisphere - Cloudiness (%) vs. Latitude Linear Regression"
   ]
  },
  {
   "cell_type": "code",
   "execution_count": 69,
   "metadata": {},
   "outputs": [
    {
     "data": {
      "image/png": "[encoded data removed]",
      "text/plain": [
       "<Figure size 432x288 with 1 Axes>"
      ]
     },
     "metadata": {
      "needs_background": "light"
     },
     "output_type": "display_data"
    }
   ],
   "source": [
    "x_values = south[\"Lat\"]\n",
    "y_values = south[\"Cloudiness\"]\n",
    "\n",
    "#Linear regression:\n",
    "(slope, intercept, rvalue, pvalue, stderr) = linregress(x_values, y_values)\n",
    "\n",
    "#Regression values and line equation:\n",
    "\n",
    "regress_values = x_values * slope + intercept\n",
    "line_eq = \"y = \" + str(round(slope,2)) + \"x + \" + str(round(intercept,2))\n",
    "\n",
    "\n",
    "plt.scatter(x_values,y_values)\n",
    "plt.plot(x_values,regress_values,\"r-\")\n",
    "plt.annotate(line_eq, (-50,25),fontsize=15,color=\"red\")\n",
    "plt.title(\"Latitude vs Cloudiness in the Southern Hemisphere\")\n",
    "plt.ylabel('Cloudiness (%)')\n",
    "plt.xlabel('Latitude')\n",
    "plt.show()"
   ]
  },
  {
   "cell_type": "markdown",
   "metadata": {},
   "source": [
    "####  Northern Hemisphere - Wind Speed (mph) vs. Latitude Linear Regression"
   ]
  },
  {
   "cell_type": "code",
   "execution_count": 70,
   "metadata": {},
   "outputs": [
    {
     "data": {
      "image/png": "[encoded data removed]",
      "text/plain": [
       "<Figure size 432x288 with 1 Axes>"
      ]
     },
     "metadata": {
      "needs_background": "light"
     },
     "output_type": "display_data"
    }
   ],
   "source": [
    "x_values = north[\"Lat\"]\n",
    "y_values = north[\"Wind Speed\"]\n",
    "\n",
    "#Linear regression:\n",
    "(slope, intercept, rvalue, pvalue, stderr) = linregress(x_values, y_values)\n",
    "\n",
    "#Regression values and line equation:\n",
    "\n",
    "regress_values = x_values * slope + intercept\n",
    "line_eq = \"y = \" + str(round(slope,2)) + \"x + \" + str(round(intercept,2))\n",
    "\n",
    "\n",
    "plt.scatter(x_values,y_values)\n",
    "plt.plot(x_values,regress_values,\"r-\")\n",
    "plt.annotate(line_eq, (20,30),fontsize=15,color=\"red\")\n",
    "plt.title(\"Latitude vs Wind Speed in the Northern Hemisphere\")\n",
    "plt.ylabel('Wind Speed (mph)')\n",
    "plt.xlabel('Latitude')\n",
    "plt.show()"
   ]
  },
  {
   "cell_type": "markdown",
   "metadata": {},
   "source": [
    "####  Southern Hemisphere - Wind Speed (mph) vs. Latitude Linear Regression"
   ]
  },
  {
   "cell_type": "code",
   "execution_count": 71,
   "metadata": {},
   "outputs": [
    {
     "data": {
      "image/png": "[encoded data removed]",
      "text/plain": [
       "<Figure size 432x288 with 1 Axes>"
      ]
     },
     "metadata": {
      "needs_background": "light"
     },
     "output_type": "display_data"
    }
   ],
   "source": [
    "x_values = south[\"Lat\"]\n",
    "y_values = south[\"Wind Speed\"]\n",
    "\n",
    "#Linear regression:\n",
    "(slope, intercept, rvalue, pvalue, stderr) = linregress(x_values, y_values)\n",
    "\n",
    "#Regression values and line equation:\n",
    "\n",
    "regress_values = x_values * slope + intercept\n",
    "line_eq = \"y = \" + str(round(slope,2)) + \"x + \" + str(round(intercept,2))\n",
    "\n",
    "\n",
    "plt.scatter(x_values,y_values)\n",
    "plt.plot(x_values,regress_values,\"r-\")\n",
    "plt.annotate(line_eq, (-25,27),fontsize=15,color=\"red\")\n",
    "plt.title(\"Latitude vs Wind Speed in the Northern Hemisphere\")\n",
    "plt.ylabel('Wind Speed (mph)')\n",
    "plt.xlabel('Latitude')\n",
    "plt.show()"
   ]
  },
  {
   "cell_type": "code",
   "execution_count": null,
   "metadata": {
    "collapsed": true,
    "jupyter": {
     "outputs_hidden": true
    }
   },
   "outputs": [],
   "source": []
  }
 ],
 "metadata": {
  "anaconda-cloud": {},
  "kernel_info": {
   "name": "python3"
  },
  "kernelspec": {
   "display_name": "Python 3",
   "language": "python",
   "name": "python3"
  },
  "language_info": {
   "codemirror_mode": {
    "name": "ipython",
    "version": 3
   },
   "file_extension": ".py",
   "mimetype": "text/x-python",
   "name": "python",
   "nbconvert_exporter": "python",
   "pygments_lexer": "ipython3",
   "version": "3.8.5"
  },
  "latex_envs": {
   "LaTeX_envs_menu_present": true,
   "autoclose": false,
   "autocomplete": true,
   "bibliofile": "biblio.bib",
   "cite_by": "apalike",
   "current_citInitial": 1,
   "eqLabelWithNumbers": true,
   "eqNumInitial": 1,
   "hotkeys": {
    "equation": "Ctrl-E",
    "itemize": "Ctrl-I"
   },
   "labels_anchors": false,
   "latex_user_defs": false,
   "report_style_numbering": false,
   "user_envs_cfg": false
  },
  "nteract": {
   "version": "0.12.3"
  }
 },
 "nbformat": 4,
 "nbformat_minor": 4
}
